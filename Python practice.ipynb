{
 "cells": [
  {
   "cell_type": "code",
   "execution_count": 7,
   "id": "341536d6",
   "metadata": {},
   "outputs": [
    {
     "name": "stdout",
     "output_type": "stream",
     "text": [
      "enter month as number7\n",
      "spring\n"
     ]
    }
   ],
   "source": [
    "month=int(input('enter month as number'))\n",
    "if month == 12 or month == 1 or month == 2:\n",
    "    print('winter')\n",
    "elif month == 3 or month == 4 :\n",
    "    print('summer')\n",
    "else :\n",
    "    print('spring')\n"
   ]
  },
  {
   "cell_type": "markdown",
   "id": "5320f5fa",
   "metadata": {},
   "source": [
    "# ascending and descending"
   ]
  },
  {
   "cell_type": "code",
   "execution_count": 17,
   "id": "9f857e9b",
   "metadata": {},
   "outputs": [
    {
     "name": "stdout",
     "output_type": "stream",
     "text": [
      "enter first number3\n",
      "enter second number2\n",
      "enter third number1\n",
      "sequence is in descending\n"
     ]
    }
   ],
   "source": [
    "a=int(input('enter first number'))\n",
    "b=int(input('enter second number'))\n",
    "c=int(input('enter third number'))\n",
    "if a>b and b>c:\n",
    "    print('sequence is in descending')\n",
    "elif a<b and b<c:\n",
    "    print('sequence is in ascending')\n",
    "else:\n",
    "    print('not in sequence')"
   ]
  },
  {
   "cell_type": "markdown",
   "id": "de7c720e",
   "metadata": {},
   "source": [
    "# rishta acceptance program\n",
    "\n"
   ]
  },
  {
   "cell_type": "code",
   "execution_count": 22,
   "id": "2856b6c5",
   "metadata": {},
   "outputs": [
    {
     "name": "stdout",
     "output_type": "stream",
     "text": [
      "enter candidiate age61\n",
      "accepted\n"
     ]
    }
   ],
   "source": [
    "age = int(input('enter candidiate age'))\n",
    "if(age>15):\n",
    "    print('accepted')\n",
    "\n",
    "else:\n",
    "    ('try again')"
   ]
  },
  {
   "cell_type": "markdown",
   "id": "c8bf4cdd",
   "metadata": {},
   "source": [
    "\n",
    "# tax"
   ]
  },
  {
   "cell_type": "markdown",
   "id": "3513cfbc",
   "metadata": {},
   "source": [
    "\n",
    "# calculator"
   ]
  },
  {
   "cell_type": "code",
   "execution_count": null,
   "id": "ca8a1d35",
   "metadata": {},
   "outputs": [],
   "source": [
    "def add(val1,val2):\n",
    "    return val1+val2\n",
    "def subtract(val1,val2):\n",
    "    return val1-val2\n",
    "def multiply(val1,val2):\n",
    "    return val1*val2\n",
    "def divide(val1,val2):\n",
    "    return val1/val2\n",
    "print('click 1 for add')\n",
    "print('click 2 for subtract')\n",
    "print('click 3 for multiply')\n",
    "print('click 4 for divide')\n",
    "choice=input('input operator')\n",
    "num1=int(input('input first number'))\n",
    "num2=int(input('input second number'))\n",
    "\n",
    "if choice=='1':\n",
    "    print(add(num1,num2))\n",
    "elif choice=='2':\n",
    "    print(subtract(num1,num2))\n",
    "elif choice=='3':\n",
    "    print(multiply(num1,num2))\n",
    "elif choice=='4':\n",
    "    print(divide(num1,num2))\n",
    "else:\n",
    "    print('syntex error')\n"
   ]
  },
  {
   "cell_type": "code",
   "execution_count": 29,
   "id": "e9d5d465",
   "metadata": {},
   "outputs": [
    {
     "name": "stdout",
     "output_type": "stream",
     "text": [
      "enter password1234567890\n",
      "strong password\n"
     ]
    }
   ],
   "source": [
    "pas = input('enter password')\n",
    "if len(pas)>8:\n",
    "    print('strong password')\n",
    "else:\n",
    "    print('weak password')"
   ]
  },
  {
   "cell_type": "markdown",
   "id": "4210af2a",
   "metadata": {},
   "source": [
    "# Dictionary\n",
    "\n"
   ]
  },
  {
   "cell_type": "code",
   "execution_count": 18,
   "id": "b0e058ec",
   "metadata": {},
   "outputs": [
    {
     "name": "stdout",
     "output_type": "stream",
     "text": [
      "syed 85 pass\n",
      "rouhan 90 pass\n",
      "ali 56 fail\n",
      "ahmed 55 fail\n"
     ]
    }
   ],
   "source": [
    "#create a dic in which u have to store a students name and its marks\n",
    "\n",
    "stud_lst={'syed':85,\n",
    "      'rouhan':90,\n",
    "      'ali':56,'ahmed':55}\n",
    "for key,value in stud_lst.items():\n",
    "    if value > 60:\n",
    "        print(key,value,\"pass\")\n",
    "    else:\n",
    "        print(key,value,\"fail\")\n",
    "\n"
   ]
  },
  {
   "cell_type": "code",
   "execution_count": 19,
   "id": "19bbd144",
   "metadata": {},
   "outputs": [
    {
     "name": "stdout",
     "output_type": "stream",
     "text": [
      "55\n",
      "55\n",
      "55\n",
      "55\n"
     ]
    }
   ],
   "source": [
    "for values in stud_lst.values():\n",
    "    print(value)"
   ]
  },
  {
   "cell_type": "code",
   "execution_count": 17,
   "id": "4df444df",
   "metadata": {},
   "outputs": [
    {
     "data": {
      "text/plain": [
       "{'syed': 85, 'rouhan': 90, 'ali': 56, 'ahmed': 45}"
      ]
     },
     "execution_count": 17,
     "metadata": {},
     "output_type": "execute_result"
    }
   ],
   "source": [
    "stud_lst"
   ]
  },
  {
   "cell_type": "code",
   "execution_count": 31,
   "id": "02319e5f",
   "metadata": {},
   "outputs": [
    {
     "name": "stdout",
     "output_type": "stream",
     "text": [
      "matched\n"
     ]
    }
   ],
   "source": [
    "#linear search\n",
    "\n",
    "keyword = 'ahmed'\n",
    "for key in stud_lst.keys():\n",
    "    if keyword==key:        #we can also use this form in place of if else condition\n",
    "        print(\"matched\")\n",
    "        found = True\n",
    "if found==False:\n",
    "    print(\"not matched\")"
   ]
  },
  {
   "cell_type": "code",
   "execution_count": 35,
   "id": "9ff616e9",
   "metadata": {},
   "outputs": [],
   "source": [
    "stud_lst['asif']=87"
   ]
  },
  {
   "cell_type": "code",
   "execution_count": 36,
   "id": "75bc062e",
   "metadata": {},
   "outputs": [
    {
     "name": "stdout",
     "output_type": "stream",
     "text": [
      "{'syed': 85, 'rouhan': 90, 'ali': 56, 'ahmed': 55, 'asif': 87}\n"
     ]
    }
   ],
   "source": [
    "print (stud_lst)"
   ]
  },
  {
   "cell_type": "code",
   "execution_count": 37,
   "id": "76ee369b",
   "metadata": {},
   "outputs": [],
   "source": [
    "stud_lst['ahmed']=90"
   ]
  },
  {
   "cell_type": "code",
   "execution_count": 38,
   "id": "4fa8b0d6",
   "metadata": {},
   "outputs": [
    {
     "data": {
      "text/plain": [
       "{'syed': 85, 'rouhan': 90, 'ali': 56, 'ahmed': 90, 'asif': 87}"
      ]
     },
     "execution_count": 38,
     "metadata": {},
     "output_type": "execute_result"
    }
   ],
   "source": [
    "stud_lst\n"
   ]
  },
  {
   "cell_type": "code",
   "execution_count": 45,
   "id": "229edf6b",
   "metadata": {},
   "outputs": [],
   "source": [
    "stud_lst={'key':{\n",
    "    'name':'umair',\n",
    "    'age':19,\n",
    "    'marks':89\n",
    "},\n",
    "'key1':{\n",
    "    'name':'sumair',\n",
    "    'age':29,\n",
    "    'marks':79\n",
    "},\n",
    "'key2':{\n",
    "    'name':'jumair',\n",
    "    'age':89,\n",
    "    'marks':59\n",
    "}}"
   ]
  },
  {
   "cell_type": "code",
   "execution_count": 51,
   "id": "c2204044",
   "metadata": {},
   "outputs": [
    {
     "name": "stdout",
     "output_type": "stream",
     "text": [
      "{'name': 'sumair', 'age': 29, 'marks': 79}\n"
     ]
    }
   ],
   "source": [
    "print(stud_lst['key1'])"
   ]
  },
  {
   "cell_type": "code",
   "execution_count": 52,
   "id": "25f6ce09",
   "metadata": {},
   "outputs": [],
   "source": [
    "del stud_lst['key']"
   ]
  },
  {
   "cell_type": "code",
   "execution_count": 53,
   "id": "6bccc723",
   "metadata": {},
   "outputs": [
    {
     "data": {
      "text/plain": [
       "{'key1': {'name': 'sumair', 'age': 29, 'marks': 79},\n",
       " 'key2': {'name': 'jumair', 'age': 89, 'marks': 59}}"
      ]
     },
     "execution_count": 53,
     "metadata": {},
     "output_type": "execute_result"
    }
   ],
   "source": [
    "stud_lst"
   ]
  },
  {
   "cell_type": "code",
   "execution_count": 59,
   "id": "3071415b",
   "metadata": {},
   "outputs": [],
   "source": [
    "stud_lst['key']='name: umair','age: 15','marks: 45'"
   ]
  },
  {
   "cell_type": "code",
   "execution_count": 60,
   "id": "0ada499b",
   "metadata": {},
   "outputs": [
    {
     "data": {
      "text/plain": [
       "{'key1': {'name': 'sumair', 'age': 29, 'marks': 79},\n",
       " 'key2': {'name': 'jumair', 'age': 89, 'marks': 59},\n",
       " 'key': ('name: umair', 'age: 15', 'marks: 45')}"
      ]
     },
     "execution_count": 60,
     "metadata": {},
     "output_type": "execute_result"
    }
   ],
   "source": [
    "stud_lst\n"
   ]
  },
  {
   "cell_type": "code",
   "execution_count": 62,
   "id": "3dd784da",
   "metadata": {},
   "outputs": [
    {
     "name": "stdout",
     "output_type": "stream",
     "text": [
      "16\n"
     ]
    }
   ],
   "source": [
    "def add(num1,num2):   #add through def\n",
    "    return num1+num2\n",
    "print(add(3,13))"
   ]
  },
  {
   "cell_type": "code",
   "execution_count": 63,
   "id": "57470ed1",
   "metadata": {},
   "outputs": [
    {
     "name": "stdout",
     "output_type": "stream",
     "text": [
      "12\n"
     ]
    }
   ],
   "source": [
    "def nTimes(value,n):\n",
    "    return value*n\n",
    "print(nTimes(2,6))"
   ]
  },
  {
   "cell_type": "markdown",
   "id": "a2ef28b1",
   "metadata": {},
   "source": [
    "# Capitilaizing first letter"
   ]
  },
  {
   "cell_type": "code",
   "execution_count": 9,
   "id": "8c417109",
   "metadata": {},
   "outputs": [],
   "source": [
    "def capitilaize_first_letter(str):\n",
    "    a=str[0]\n",
    "    b=str[1:]\n",
    "    return a.upper()+b.lower()\n",
    "        "
   ]
  },
  {
   "cell_type": "code",
   "execution_count": 10,
   "id": "379027d7",
   "metadata": {},
   "outputs": [
    {
     "data": {
      "text/plain": [
       "'Rouhan'"
      ]
     },
     "execution_count": 10,
     "metadata": {},
     "output_type": "execute_result"
    }
   ],
   "source": [
    "capitilaize_first_letter(\"rouhan\")"
   ]
  },
  {
   "cell_type": "code",
   "execution_count": 11,
   "id": "3d8964e4",
   "metadata": {},
   "outputs": [
    {
     "data": {
      "text/plain": [
       "'ROUHAN'"
      ]
     },
     "execution_count": 11,
     "metadata": {},
     "output_type": "execute_result"
    }
   ],
   "source": [
    "def capitilaize_all_letters(str):\n",
    "    a=str[0]\n",
    "    b=str[1:]\n",
    "    return a.upper()+b.upper()\n",
    "\n",
    "\n",
    "capitilaize_all_letters(\"rouhan\")"
   ]
  },
  {
   "cell_type": "code",
   "execution_count": 27,
   "id": "4cbd7a35",
   "metadata": {},
   "outputs": [],
   "source": [
    "def camel_case(name):\n",
    "    \n",
    "    words = name.split(' ')\n",
    "    \n",
    "    output = words[0].lower()\n",
    "    \n",
    "    for w in words[1:]:\n",
    "        output += capitilaize_first_letter(w)\n",
    "      \n",
    "    return output\n",
    "    \n",
    "    \n",
    "\n",
    "        "
   ]
  },
  {
   "cell_type": "code",
   "execution_count": 29,
   "id": "e0a7a8ad",
   "metadata": {},
   "outputs": [
    {
     "name": "stdout",
     "output_type": "stream",
     "text": [
      "['of', 'elephant']\n",
      "of\n",
      "elephant\n"
     ]
    },
    {
     "data": {
      "text/plain": [
       "'nameOfElephant'"
      ]
     },
     "execution_count": 29,
     "metadata": {},
     "output_type": "execute_result"
    }
   ],
   "source": [
    "camel_case('name of elephant')"
   ]
  },
  {
   "cell_type": "code",
   "execution_count": 30,
   "id": "2e08a35e",
   "metadata": {},
   "outputs": [
    {
     "name": "stdout",
     "output_type": "stream",
     "text": [
      "['rouhan', 'ali']\n",
      "rouhan\n",
      "ali\n"
     ]
    },
    {
     "data": {
      "text/plain": [
       "'syedRouhanAli'"
      ]
     },
     "execution_count": 30,
     "metadata": {},
     "output_type": "execute_result"
    }
   ],
   "source": [
    "camel_case('syed rouhan ali')"
   ]
  },
  {
   "cell_type": "code",
   "execution_count": 55,
   "id": "f3d12d46",
   "metadata": {},
   "outputs": [],
   "source": [
    "def male_female(name : str):\n",
    "    if name[2].lower() == \"h\":\n",
    "        return name+\" is female\"\n",
    "    else:\n",
    "        return \"male\""
   ]
  },
  {
   "cell_type": "code",
   "execution_count": 62,
   "id": "979fc4b1",
   "metadata": {},
   "outputs": [
    {
     "name": "stdout",
     "output_type": "stream",
     "text": [
      "male\n",
      "male\n",
      "rahfa is female\n"
     ]
    }
   ],
   "source": [
    "print(male_female(\"syed\"))\n",
    "print(male_female(\"rouhan\"))\n",
    "print(male_female(\"rahfa\"))"
   ]
  },
  {
   "cell_type": "code",
   "execution_count": 58,
   "id": "6e69617d",
   "metadata": {},
   "outputs": [],
   "source": [
    "def f(a,b):\n",
    "    return a-b"
   ]
  },
  {
   "cell_type": "code",
   "execution_count": 46,
   "id": "4c21f4c8",
   "metadata": {},
   "outputs": [
    {
     "data": {
      "text/plain": [
       "1"
      ]
     },
     "execution_count": 46,
     "metadata": {},
     "output_type": "execute_result"
    }
   ],
   "source": [
    "f(3,2)"
   ]
  },
  {
   "cell_type": "code",
   "execution_count": 63,
   "id": "673509cf",
   "metadata": {},
   "outputs": [
    {
     "data": {
      "text/plain": [
       "-1"
      ]
     },
     "execution_count": 63,
     "metadata": {},
     "output_type": "execute_result"
    }
   ],
   "source": [
    "f(b=3,a=2)"
   ]
  },
  {
   "cell_type": "code",
   "execution_count": 72,
   "id": "ee1aceca",
   "metadata": {},
   "outputs": [],
   "source": [
    "def square():\n",
    "    print('___________')\n",
    "    print('|\\ |   | /|')\n",
    "    print('| \\|   |/ |')\n",
    "    print('|  \\   /  |')\n",
    "    print('|  |\\ /|  |') \n",
    "    print('|  | \\ |  |')\n",
    "    print('|  |/ \\|  |')\n",
    "    print('|  /   \\  |')\n",
    "    print('| /|   |\\ |')\n",
    "    print('|/_|___|_\\|')\n"
   ]
  },
  {
   "cell_type": "code",
   "execution_count": 73,
   "id": "688e55f2",
   "metadata": {},
   "outputs": [
    {
     "name": "stdout",
     "output_type": "stream",
     "text": [
      "___________\n",
      "|\\ |   | /|\n",
      "| \\|   |/ |\n",
      "|  \\   /  |\n",
      "|  |\\ /|  |\n",
      "|  | \\ |  |\n",
      "|  |/ \\|  |\n",
      "|  /   \\  |\n",
      "| /|   |\\ |\n",
      "|/_|___|_\\|\n"
     ]
    }
   ],
   "source": [
    "(square())"
   ]
  },
  {
   "cell_type": "code",
   "execution_count": 79,
   "id": "7fb3ab06",
   "metadata": {},
   "outputs": [],
   "source": [
    "def product(*num): #pehchan hai variable ki\n",
    "    p=1\n",
    "    for n in num:\n",
    "        p*=n\n",
    "    return p\n",
    "    "
   ]
  },
  {
   "cell_type": "code",
   "execution_count": 80,
   "id": "3e36c669",
   "metadata": {},
   "outputs": [
    {
     "data": {
      "text/plain": [
       "48"
      ]
     },
     "execution_count": 80,
     "metadata": {},
     "output_type": "execute_result"
    }
   ],
   "source": [
    "product(3,8,2)"
   ]
  },
  {
   "cell_type": "code",
   "execution_count": 88,
   "id": "5a57c7c0",
   "metadata": {},
   "outputs": [],
   "source": [
    "def team(*points):\n",
    "    t=0\n",
    "    for p in points:\n",
    "        print(p)"
   ]
  },
  {
   "cell_type": "code",
   "execution_count": 89,
   "id": "cc15c5ef",
   "metadata": {},
   "outputs": [
    {
     "name": "stdout",
     "output_type": "stream",
     "text": [
      "10\n",
      "7\n",
      "11\n",
      "15\n",
      "13\n"
     ]
    }
   ],
   "source": [
    "team(10,7,11,15,13)"
   ]
  },
  {
   "cell_type": "code",
   "execution_count": 99,
   "id": "5013ff68",
   "metadata": {},
   "outputs": [],
   "source": [
    "def print_teams(**teams):\n",
    "    print(teams)"
   ]
  },
  {
   "cell_type": "code",
   "execution_count": 100,
   "id": "882018f7",
   "metadata": {},
   "outputs": [
    {
     "name": "stdout",
     "output_type": "stream",
     "text": [
      "{'Pakistan': 10, 'India': 22}\n"
     ]
    }
   ],
   "source": [
    "print_teams(Pakistan=10,  India=22)"
   ]
  },
  {
   "cell_type": "code",
   "execution_count": 101,
   "id": "6c92436c",
   "metadata": {},
   "outputs": [
    {
     "ename": "ModuleNotFoundError",
     "evalue": "No module named 'maths'",
     "output_type": "error",
     "traceback": [
      "\u001b[1;31m---------------------------------------------------------------------------\u001b[0m",
      "\u001b[1;31mModuleNotFoundError\u001b[0m                       Traceback (most recent call last)",
      "Input \u001b[1;32mIn [101]\u001b[0m, in \u001b[0;36m<cell line: 1>\u001b[1;34m()\u001b[0m\n\u001b[1;32m----> 1\u001b[0m \u001b[38;5;28;01mfrom\u001b[39;00m \u001b[38;5;21;01mmaths\u001b[39;00m \u001b[38;5;28;01mimport\u001b[39;00m sqrt\n\u001b[0;32m      2\u001b[0m \u001b[38;5;28;01mdef\u001b[39;00m \u001b[38;5;21msolve\u001b[39m(\u001b[38;5;241m*\u001b[39m\u001b[38;5;241m*\u001b[39margs):\n\u001b[0;32m      3\u001b[0m     a\u001b[38;5;241m=\u001b[39margs[\u001b[38;5;124m'\u001b[39m\u001b[38;5;124ma\u001b[39m\u001b[38;5;124m'\u001b[39m]\n",
      "\u001b[1;31mModuleNotFoundError\u001b[0m: No module named 'maths'"
     ]
    }
   ],
   "source": [
    "from maths import sqrt\n",
    "def solve(**args):\n",
    "    a=args['a']\n",
    "    b=args['b']\n",
    "    c=args['c']\n",
    "    d=args['d']\n",
    "    d=b*b-4*a*c\n",
    "    \n",
    "    if(d<0):\n",
    "        print(\"no real solution\")\n",
    "    else:\n",
    "        x1=(-b+sqrt(d))/(2*a)\n",
    "        x2=(-b-sqrt(d))/(2*a)\n",
    "        print(x1,x2)"
   ]
  },
  {
   "cell_type": "markdown",
   "id": "470b74b9",
   "metadata": {},
   "source": [
    "# oop"
   ]
  },
  {
   "cell_type": "code",
   "execution_count": 73,
   "id": "27262051",
   "metadata": {},
   "outputs": [],
   "source": [
    "class student :\n",
    "    def __init__(self,n,a):\n",
    "        self.name = n\n",
    "        self.__age = a\n",
    "    def setAge(self, a):\n",
    "        if(a>0):\n",
    "            self.__age = a\n",
    "        print(a)\n",
    "    def getAge(self):\n",
    "        return self.__age\n",
    "        \n",
    "    def enroll(self):\n",
    "        print(\"student enrolled\",self.name,self.__age)\n",
    "    def exam(self):\n",
    "        print(\"giving exam\" , self.name , self.__age)"
   ]
  },
  {
   "cell_type": "code",
   "execution_count": 74,
   "id": "f9009e57",
   "metadata": {},
   "outputs": [
    {
     "name": "stdout",
     "output_type": "stream",
     "text": [
      "giving exam rouhan 19\n"
     ]
    }
   ],
   "source": [
    "std1.exam()"
   ]
  },
  {
   "cell_type": "code",
   "execution_count": 75,
   "id": "d868078c",
   "metadata": {},
   "outputs": [
    {
     "name": "stdout",
     "output_type": "stream",
     "text": [
      "student enrolled rouhan 19\n"
     ]
    }
   ],
   "source": [
    "std1=student(\"rouhan\",19)\n",
    "std1.enroll()"
   ]
  },
  {
   "cell_type": "code",
   "execution_count": 76,
   "id": "78138b09",
   "metadata": {},
   "outputs": [
    {
     "ename": "TypeError",
     "evalue": "__init__() missing 2 required positional arguments: 'n' and 'a'",
     "output_type": "error",
     "traceback": [
      "\u001b[1;31m---------------------------------------------------------------------------\u001b[0m",
      "\u001b[1;31mTypeError\u001b[0m                                 Traceback (most recent call last)",
      "Input \u001b[1;32mIn [76]\u001b[0m, in \u001b[0;36m<cell line: 1>\u001b[1;34m()\u001b[0m\n\u001b[1;32m----> 1\u001b[0m std3 \u001b[38;5;241m=\u001b[39m \u001b[43mstudent\u001b[49m\u001b[43m(\u001b[49m\u001b[43m)\u001b[49m\n",
      "\u001b[1;31mTypeError\u001b[0m: __init__() missing 2 required positional arguments: 'n' and 'a'"
     ]
    }
   ],
   "source": [
    "std3 = student()"
   ]
  },
  {
   "cell_type": "code",
   "execution_count": 77,
   "id": "8d0656e1",
   "metadata": {},
   "outputs": [
    {
     "name": "stdout",
     "output_type": "stream",
     "text": [
      "giving exam rouhan 19\n"
     ]
    }
   ],
   "source": [
    "std1.exam()"
   ]
  },
  {
   "cell_type": "code",
   "execution_count": 79,
   "id": "2c00504c",
   "metadata": {},
   "outputs": [
    {
     "name": "stdout",
     "output_type": "stream",
     "text": [
      "10\n"
     ]
    }
   ],
   "source": [
    "std1.setAge(10)"
   ]
  },
  {
   "cell_type": "code",
   "execution_count": 80,
   "id": "7f4d5408",
   "metadata": {},
   "outputs": [
    {
     "data": {
      "text/plain": [
       "10"
      ]
     },
     "execution_count": 80,
     "metadata": {},
     "output_type": "execute_result"
    }
   ],
   "source": [
    "std1.getAge()"
   ]
  },
  {
   "cell_type": "code",
   "execution_count": null,
   "id": "c620ae5d",
   "metadata": {},
   "outputs": [],
   "source": []
  }
 ],
 "metadata": {
  "kernelspec": {
   "display_name": "Python 3 (ipykernel)",
   "language": "python",
   "name": "python3"
  },
  "language_info": {
   "codemirror_mode": {
    "name": "ipython",
    "version": 3
   },
   "file_extension": ".py",
   "mimetype": "text/x-python",
   "name": "python",
   "nbconvert_exporter": "python",
   "pygments_lexer": "ipython3",
   "version": "3.9.12"
  }
 },
 "nbformat": 4,
 "nbformat_minor": 5
}
